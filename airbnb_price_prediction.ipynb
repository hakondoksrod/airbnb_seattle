{
 "cells": [
  {
   "cell_type": "markdown",
   "metadata": {},
   "source": [
    "# Airbnb Seattle data analysis - price prediction model\n",
    "## Introduction\n",
    "The dataset consists of one file containing Airbnb listings from Seattle, WA in the United States. The data was downloaded from [Kaggle](https://www.kaggle.com/airbnb/seattle). The listings data consists of approx. 3.800 rows.\n",
    "\n",
    "In this notebook I will attempt to build a model to predict the listing price based on the information available in the dataset."
   ]
  },
  {
   "cell_type": "markdown",
   "metadata": {},
   "source": [
    "## Gathering data"
   ]
  },
  {
   "cell_type": "code",
   "execution_count": 1,
   "metadata": {
    "collapsed": false
   },
   "outputs": [],
   "source": [
    "# Importing necessary packages and loading in the dataset\n",
    "import pandas as pd\n",
    "import numpy as np\n",
    "import matplotlib.pyplot as plt\n",
    "%matplotlib inline\n",
    "import seaborn as sns\n",
    "sns.set_style('white')\n",
    "from sklearn.linear_model import LinearRegression\n",
    "from sklearn.model_selection import train_test_split\n",
    "from sklearn.metrics import r2_score, mean_squared_error, median_absolute_error, mean_absolute_error\n",
    "from sklearn.ensemble import GradientBoostingRegressor\n",
    "import reg_model as rm\n",
    "\n",
    "listings = pd.read_csv('listings.csv')"
   ]
  },
  {
   "cell_type": "code",
   "execution_count": 2,
   "metadata": {
    "collapsed": false,
    "scrolled": true
   },
   "outputs": [
    {
     "data": {
      "text/html": [
       "<div>\n",
       "<table border=\"1\" class=\"dataframe\">\n",
       "  <thead>\n",
       "    <tr style=\"text-align: right;\">\n",
       "      <th></th>\n",
       "      <th>id</th>\n",
       "      <th>listing_url</th>\n",
       "      <th>scrape_id</th>\n",
       "      <th>last_scraped</th>\n",
       "      <th>name</th>\n",
       "      <th>summary</th>\n",
       "      <th>space</th>\n",
       "      <th>description</th>\n",
       "      <th>experiences_offered</th>\n",
       "      <th>neighborhood_overview</th>\n",
       "      <th>...</th>\n",
       "      <th>review_scores_value</th>\n",
       "      <th>requires_license</th>\n",
       "      <th>license</th>\n",
       "      <th>jurisdiction_names</th>\n",
       "      <th>instant_bookable</th>\n",
       "      <th>cancellation_policy</th>\n",
       "      <th>require_guest_profile_picture</th>\n",
       "      <th>require_guest_phone_verification</th>\n",
       "      <th>calculated_host_listings_count</th>\n",
       "      <th>reviews_per_month</th>\n",
       "    </tr>\n",
       "  </thead>\n",
       "  <tbody>\n",
       "    <tr>\n",
       "      <th>0</th>\n",
       "      <td>241032</td>\n",
       "      <td>https://www.airbnb.com/rooms/241032</td>\n",
       "      <td>20160104002432</td>\n",
       "      <td>2016-01-04</td>\n",
       "      <td>Stylish Queen Anne Apartment</td>\n",
       "      <td>NaN</td>\n",
       "      <td>Make your self at home in this charming one-be...</td>\n",
       "      <td>Make your self at home in this charming one-be...</td>\n",
       "      <td>none</td>\n",
       "      <td>NaN</td>\n",
       "      <td>...</td>\n",
       "      <td>10.0</td>\n",
       "      <td>f</td>\n",
       "      <td>NaN</td>\n",
       "      <td>WASHINGTON</td>\n",
       "      <td>f</td>\n",
       "      <td>moderate</td>\n",
       "      <td>f</td>\n",
       "      <td>f</td>\n",
       "      <td>2</td>\n",
       "      <td>4.07</td>\n",
       "    </tr>\n",
       "    <tr>\n",
       "      <th>1</th>\n",
       "      <td>953595</td>\n",
       "      <td>https://www.airbnb.com/rooms/953595</td>\n",
       "      <td>20160104002432</td>\n",
       "      <td>2016-01-04</td>\n",
       "      <td>Bright &amp; Airy Queen Anne Apartment</td>\n",
       "      <td>Chemically sensitive? We've removed the irrita...</td>\n",
       "      <td>Beautiful, hypoallergenic apartment in an extr...</td>\n",
       "      <td>Chemically sensitive? We've removed the irrita...</td>\n",
       "      <td>none</td>\n",
       "      <td>Queen Anne is a wonderful, truly functional vi...</td>\n",
       "      <td>...</td>\n",
       "      <td>10.0</td>\n",
       "      <td>f</td>\n",
       "      <td>NaN</td>\n",
       "      <td>WASHINGTON</td>\n",
       "      <td>f</td>\n",
       "      <td>strict</td>\n",
       "      <td>t</td>\n",
       "      <td>t</td>\n",
       "      <td>6</td>\n",
       "      <td>1.48</td>\n",
       "    </tr>\n",
       "    <tr>\n",
       "      <th>2</th>\n",
       "      <td>3308979</td>\n",
       "      <td>https://www.airbnb.com/rooms/3308979</td>\n",
       "      <td>20160104002432</td>\n",
       "      <td>2016-01-04</td>\n",
       "      <td>New Modern House-Amazing water view</td>\n",
       "      <td>New modern house built in 2013.  Spectacular s...</td>\n",
       "      <td>Our house is modern, light and fresh with a wa...</td>\n",
       "      <td>New modern house built in 2013.  Spectacular s...</td>\n",
       "      <td>none</td>\n",
       "      <td>Upper Queen Anne is a charming neighborhood fu...</td>\n",
       "      <td>...</td>\n",
       "      <td>10.0</td>\n",
       "      <td>f</td>\n",
       "      <td>NaN</td>\n",
       "      <td>WASHINGTON</td>\n",
       "      <td>f</td>\n",
       "      <td>strict</td>\n",
       "      <td>f</td>\n",
       "      <td>f</td>\n",
       "      <td>2</td>\n",
       "      <td>1.15</td>\n",
       "    </tr>\n",
       "    <tr>\n",
       "      <th>3</th>\n",
       "      <td>7421966</td>\n",
       "      <td>https://www.airbnb.com/rooms/7421966</td>\n",
       "      <td>20160104002432</td>\n",
       "      <td>2016-01-04</td>\n",
       "      <td>Queen Anne Chateau</td>\n",
       "      <td>A charming apartment that sits atop Queen Anne...</td>\n",
       "      <td>NaN</td>\n",
       "      <td>A charming apartment that sits atop Queen Anne...</td>\n",
       "      <td>none</td>\n",
       "      <td>NaN</td>\n",
       "      <td>...</td>\n",
       "      <td>NaN</td>\n",
       "      <td>f</td>\n",
       "      <td>NaN</td>\n",
       "      <td>WASHINGTON</td>\n",
       "      <td>f</td>\n",
       "      <td>flexible</td>\n",
       "      <td>f</td>\n",
       "      <td>f</td>\n",
       "      <td>1</td>\n",
       "      <td>NaN</td>\n",
       "    </tr>\n",
       "    <tr>\n",
       "      <th>4</th>\n",
       "      <td>278830</td>\n",
       "      <td>https://www.airbnb.com/rooms/278830</td>\n",
       "      <td>20160104002432</td>\n",
       "      <td>2016-01-04</td>\n",
       "      <td>Charming craftsman 3 bdm house</td>\n",
       "      <td>Cozy family craftman house in beautiful neighb...</td>\n",
       "      <td>Cozy family craftman house in beautiful neighb...</td>\n",
       "      <td>Cozy family craftman house in beautiful neighb...</td>\n",
       "      <td>none</td>\n",
       "      <td>We are in the beautiful neighborhood of Queen ...</td>\n",
       "      <td>...</td>\n",
       "      <td>9.0</td>\n",
       "      <td>f</td>\n",
       "      <td>NaN</td>\n",
       "      <td>WASHINGTON</td>\n",
       "      <td>f</td>\n",
       "      <td>strict</td>\n",
       "      <td>f</td>\n",
       "      <td>f</td>\n",
       "      <td>1</td>\n",
       "      <td>0.89</td>\n",
       "    </tr>\n",
       "  </tbody>\n",
       "</table>\n",
       "<p>5 rows × 92 columns</p>\n",
       "</div>"
      ],
      "text/plain": [
       "        id                           listing_url       scrape_id last_scraped  \\\n",
       "0   241032   https://www.airbnb.com/rooms/241032  20160104002432   2016-01-04   \n",
       "1   953595   https://www.airbnb.com/rooms/953595  20160104002432   2016-01-04   \n",
       "2  3308979  https://www.airbnb.com/rooms/3308979  20160104002432   2016-01-04   \n",
       "3  7421966  https://www.airbnb.com/rooms/7421966  20160104002432   2016-01-04   \n",
       "4   278830   https://www.airbnb.com/rooms/278830  20160104002432   2016-01-04   \n",
       "\n",
       "                                  name  \\\n",
       "0         Stylish Queen Anne Apartment   \n",
       "1   Bright & Airy Queen Anne Apartment   \n",
       "2  New Modern House-Amazing water view   \n",
       "3                   Queen Anne Chateau   \n",
       "4       Charming craftsman 3 bdm house   \n",
       "\n",
       "                                             summary  \\\n",
       "0                                                NaN   \n",
       "1  Chemically sensitive? We've removed the irrita...   \n",
       "2  New modern house built in 2013.  Spectacular s...   \n",
       "3  A charming apartment that sits atop Queen Anne...   \n",
       "4  Cozy family craftman house in beautiful neighb...   \n",
       "\n",
       "                                               space  \\\n",
       "0  Make your self at home in this charming one-be...   \n",
       "1  Beautiful, hypoallergenic apartment in an extr...   \n",
       "2  Our house is modern, light and fresh with a wa...   \n",
       "3                                                NaN   \n",
       "4  Cozy family craftman house in beautiful neighb...   \n",
       "\n",
       "                                         description experiences_offered  \\\n",
       "0  Make your self at home in this charming one-be...                none   \n",
       "1  Chemically sensitive? We've removed the irrita...                none   \n",
       "2  New modern house built in 2013.  Spectacular s...                none   \n",
       "3  A charming apartment that sits atop Queen Anne...                none   \n",
       "4  Cozy family craftman house in beautiful neighb...                none   \n",
       "\n",
       "                               neighborhood_overview        ...         \\\n",
       "0                                                NaN        ...          \n",
       "1  Queen Anne is a wonderful, truly functional vi...        ...          \n",
       "2  Upper Queen Anne is a charming neighborhood fu...        ...          \n",
       "3                                                NaN        ...          \n",
       "4  We are in the beautiful neighborhood of Queen ...        ...          \n",
       "\n",
       "  review_scores_value requires_license license jurisdiction_names  \\\n",
       "0                10.0                f     NaN         WASHINGTON   \n",
       "1                10.0                f     NaN         WASHINGTON   \n",
       "2                10.0                f     NaN         WASHINGTON   \n",
       "3                 NaN                f     NaN         WASHINGTON   \n",
       "4                 9.0                f     NaN         WASHINGTON   \n",
       "\n",
       "  instant_bookable cancellation_policy  require_guest_profile_picture  \\\n",
       "0                f            moderate                              f   \n",
       "1                f              strict                              t   \n",
       "2                f              strict                              f   \n",
       "3                f            flexible                              f   \n",
       "4                f              strict                              f   \n",
       "\n",
       "  require_guest_phone_verification calculated_host_listings_count  \\\n",
       "0                                f                              2   \n",
       "1                                t                              6   \n",
       "2                                f                              2   \n",
       "3                                f                              1   \n",
       "4                                f                              1   \n",
       "\n",
       "  reviews_per_month  \n",
       "0              4.07  \n",
       "1              1.48  \n",
       "2              1.15  \n",
       "3               NaN  \n",
       "4              0.89  \n",
       "\n",
       "[5 rows x 92 columns]"
      ]
     },
     "execution_count": 2,
     "metadata": {},
     "output_type": "execute_result"
    }
   ],
   "source": [
    "listings.head()"
   ]
  },
  {
   "cell_type": "code",
   "execution_count": 3,
   "metadata": {
    "collapsed": false,
    "scrolled": true
   },
   "outputs": [
    {
     "name": "stdout",
     "output_type": "stream",
     "text": [
      "<class 'pandas.core.frame.DataFrame'>\n",
      "RangeIndex: 3818 entries, 0 to 3817\n",
      "Data columns (total 92 columns):\n",
      "id                                  3818 non-null int64\n",
      "listing_url                         3818 non-null object\n",
      "scrape_id                           3818 non-null int64\n",
      "last_scraped                        3818 non-null object\n",
      "name                                3818 non-null object\n",
      "summary                             3641 non-null object\n",
      "space                               3249 non-null object\n",
      "description                         3818 non-null object\n",
      "experiences_offered                 3818 non-null object\n",
      "neighborhood_overview               2786 non-null object\n",
      "notes                               2212 non-null object\n",
      "transit                             2884 non-null object\n",
      "thumbnail_url                       3498 non-null object\n",
      "medium_url                          3498 non-null object\n",
      "picture_url                         3818 non-null object\n",
      "xl_picture_url                      3498 non-null object\n",
      "host_id                             3818 non-null int64\n",
      "host_url                            3818 non-null object\n",
      "host_name                           3816 non-null object\n",
      "host_since                          3816 non-null object\n",
      "host_location                       3810 non-null object\n",
      "host_about                          2959 non-null object\n",
      "host_response_time                  3295 non-null object\n",
      "host_response_rate                  3295 non-null object\n",
      "host_acceptance_rate                3045 non-null object\n",
      "host_is_superhost                   3816 non-null object\n",
      "host_thumbnail_url                  3816 non-null object\n",
      "host_picture_url                    3816 non-null object\n",
      "host_neighbourhood                  3518 non-null object\n",
      "host_listings_count                 3816 non-null float64\n",
      "host_total_listings_count           3816 non-null float64\n",
      "host_verifications                  3818 non-null object\n",
      "host_has_profile_pic                3816 non-null object\n",
      "host_identity_verified              3816 non-null object\n",
      "street                              3818 non-null object\n",
      "neighbourhood                       3402 non-null object\n",
      "neighbourhood_cleansed              3818 non-null object\n",
      "neighbourhood_group_cleansed        3818 non-null object\n",
      "city                                3818 non-null object\n",
      "state                               3818 non-null object\n",
      "zipcode                             3811 non-null object\n",
      "market                              3818 non-null object\n",
      "smart_location                      3818 non-null object\n",
      "country_code                        3818 non-null object\n",
      "country                             3818 non-null object\n",
      "latitude                            3818 non-null float64\n",
      "longitude                           3818 non-null float64\n",
      "is_location_exact                   3818 non-null object\n",
      "property_type                       3817 non-null object\n",
      "room_type                           3818 non-null object\n",
      "accommodates                        3818 non-null int64\n",
      "bathrooms                           3802 non-null float64\n",
      "bedrooms                            3812 non-null float64\n",
      "beds                                3817 non-null float64\n",
      "bed_type                            3818 non-null object\n",
      "amenities                           3818 non-null object\n",
      "square_feet                         97 non-null float64\n",
      "price                               3818 non-null object\n",
      "weekly_price                        2009 non-null object\n",
      "monthly_price                       1517 non-null object\n",
      "security_deposit                    1866 non-null object\n",
      "cleaning_fee                        2788 non-null object\n",
      "guests_included                     3818 non-null int64\n",
      "extra_people                        3818 non-null object\n",
      "minimum_nights                      3818 non-null int64\n",
      "maximum_nights                      3818 non-null int64\n",
      "calendar_updated                    3818 non-null object\n",
      "has_availability                    3818 non-null object\n",
      "availability_30                     3818 non-null int64\n",
      "availability_60                     3818 non-null int64\n",
      "availability_90                     3818 non-null int64\n",
      "availability_365                    3818 non-null int64\n",
      "calendar_last_scraped               3818 non-null object\n",
      "number_of_reviews                   3818 non-null int64\n",
      "first_review                        3191 non-null object\n",
      "last_review                         3191 non-null object\n",
      "review_scores_rating                3171 non-null float64\n",
      "review_scores_accuracy              3160 non-null float64\n",
      "review_scores_cleanliness           3165 non-null float64\n",
      "review_scores_checkin               3160 non-null float64\n",
      "review_scores_communication         3167 non-null float64\n",
      "review_scores_location              3163 non-null float64\n",
      "review_scores_value                 3162 non-null float64\n",
      "requires_license                    3818 non-null object\n",
      "license                             0 non-null float64\n",
      "jurisdiction_names                  3818 non-null object\n",
      "instant_bookable                    3818 non-null object\n",
      "cancellation_policy                 3818 non-null object\n",
      "require_guest_profile_picture       3818 non-null object\n",
      "require_guest_phone_verification    3818 non-null object\n",
      "calculated_host_listings_count      3818 non-null int64\n",
      "reviews_per_month                   3191 non-null float64\n",
      "dtypes: float64(17), int64(13), object(62)\n",
      "memory usage: 2.7+ MB\n"
     ]
    }
   ],
   "source": [
    "listings.info()"
   ]
  },
  {
   "cell_type": "code",
   "execution_count": 4,
   "metadata": {
    "collapsed": false,
    "scrolled": true
   },
   "outputs": [
    {
     "data": {
      "text/html": [
       "<div>\n",
       "<table border=\"1\" class=\"dataframe\">\n",
       "  <thead>\n",
       "    <tr style=\"text-align: right;\">\n",
       "      <th></th>\n",
       "      <th>id</th>\n",
       "      <th>scrape_id</th>\n",
       "      <th>host_id</th>\n",
       "      <th>host_listings_count</th>\n",
       "      <th>host_total_listings_count</th>\n",
       "      <th>latitude</th>\n",
       "      <th>longitude</th>\n",
       "      <th>accommodates</th>\n",
       "      <th>bathrooms</th>\n",
       "      <th>bedrooms</th>\n",
       "      <th>...</th>\n",
       "      <th>review_scores_rating</th>\n",
       "      <th>review_scores_accuracy</th>\n",
       "      <th>review_scores_cleanliness</th>\n",
       "      <th>review_scores_checkin</th>\n",
       "      <th>review_scores_communication</th>\n",
       "      <th>review_scores_location</th>\n",
       "      <th>review_scores_value</th>\n",
       "      <th>license</th>\n",
       "      <th>calculated_host_listings_count</th>\n",
       "      <th>reviews_per_month</th>\n",
       "    </tr>\n",
       "  </thead>\n",
       "  <tbody>\n",
       "    <tr>\n",
       "      <th>count</th>\n",
       "      <td>3.818000e+03</td>\n",
       "      <td>3.818000e+03</td>\n",
       "      <td>3.818000e+03</td>\n",
       "      <td>3816.000000</td>\n",
       "      <td>3816.000000</td>\n",
       "      <td>3818.000000</td>\n",
       "      <td>3818.000000</td>\n",
       "      <td>3818.000000</td>\n",
       "      <td>3802.000000</td>\n",
       "      <td>3812.000000</td>\n",
       "      <td>...</td>\n",
       "      <td>3171.000000</td>\n",
       "      <td>3160.000000</td>\n",
       "      <td>3165.000000</td>\n",
       "      <td>3160.000000</td>\n",
       "      <td>3167.000000</td>\n",
       "      <td>3163.000000</td>\n",
       "      <td>3162.000000</td>\n",
       "      <td>0.0</td>\n",
       "      <td>3818.000000</td>\n",
       "      <td>3191.000000</td>\n",
       "    </tr>\n",
       "    <tr>\n",
       "      <th>mean</th>\n",
       "      <td>5.550111e+06</td>\n",
       "      <td>2.016010e+13</td>\n",
       "      <td>1.578556e+07</td>\n",
       "      <td>7.157757</td>\n",
       "      <td>7.157757</td>\n",
       "      <td>47.628961</td>\n",
       "      <td>-122.333103</td>\n",
       "      <td>3.349398</td>\n",
       "      <td>1.259469</td>\n",
       "      <td>1.307712</td>\n",
       "      <td>...</td>\n",
       "      <td>94.539262</td>\n",
       "      <td>9.636392</td>\n",
       "      <td>9.556398</td>\n",
       "      <td>9.786709</td>\n",
       "      <td>9.809599</td>\n",
       "      <td>9.608916</td>\n",
       "      <td>9.452245</td>\n",
       "      <td>NaN</td>\n",
       "      <td>2.946307</td>\n",
       "      <td>2.078919</td>\n",
       "    </tr>\n",
       "    <tr>\n",
       "      <th>std</th>\n",
       "      <td>2.962660e+06</td>\n",
       "      <td>0.000000e+00</td>\n",
       "      <td>1.458382e+07</td>\n",
       "      <td>28.628149</td>\n",
       "      <td>28.628149</td>\n",
       "      <td>0.043052</td>\n",
       "      <td>0.031745</td>\n",
       "      <td>1.977599</td>\n",
       "      <td>0.590369</td>\n",
       "      <td>0.883395</td>\n",
       "      <td>...</td>\n",
       "      <td>6.606083</td>\n",
       "      <td>0.698031</td>\n",
       "      <td>0.797274</td>\n",
       "      <td>0.595499</td>\n",
       "      <td>0.568211</td>\n",
       "      <td>0.629053</td>\n",
       "      <td>0.750259</td>\n",
       "      <td>NaN</td>\n",
       "      <td>5.893029</td>\n",
       "      <td>1.822348</td>\n",
       "    </tr>\n",
       "    <tr>\n",
       "      <th>min</th>\n",
       "      <td>3.335000e+03</td>\n",
       "      <td>2.016010e+13</td>\n",
       "      <td>4.193000e+03</td>\n",
       "      <td>1.000000</td>\n",
       "      <td>1.000000</td>\n",
       "      <td>47.505088</td>\n",
       "      <td>-122.417219</td>\n",
       "      <td>1.000000</td>\n",
       "      <td>0.000000</td>\n",
       "      <td>0.000000</td>\n",
       "      <td>...</td>\n",
       "      <td>20.000000</td>\n",
       "      <td>2.000000</td>\n",
       "      <td>3.000000</td>\n",
       "      <td>2.000000</td>\n",
       "      <td>2.000000</td>\n",
       "      <td>4.000000</td>\n",
       "      <td>2.000000</td>\n",
       "      <td>NaN</td>\n",
       "      <td>1.000000</td>\n",
       "      <td>0.020000</td>\n",
       "    </tr>\n",
       "    <tr>\n",
       "      <th>25%</th>\n",
       "      <td>3.258256e+06</td>\n",
       "      <td>2.016010e+13</td>\n",
       "      <td>3.275204e+06</td>\n",
       "      <td>1.000000</td>\n",
       "      <td>1.000000</td>\n",
       "      <td>47.609418</td>\n",
       "      <td>-122.354320</td>\n",
       "      <td>2.000000</td>\n",
       "      <td>1.000000</td>\n",
       "      <td>1.000000</td>\n",
       "      <td>...</td>\n",
       "      <td>93.000000</td>\n",
       "      <td>9.000000</td>\n",
       "      <td>9.000000</td>\n",
       "      <td>10.000000</td>\n",
       "      <td>10.000000</td>\n",
       "      <td>9.000000</td>\n",
       "      <td>9.000000</td>\n",
       "      <td>NaN</td>\n",
       "      <td>1.000000</td>\n",
       "      <td>0.695000</td>\n",
       "    </tr>\n",
       "    <tr>\n",
       "      <th>50%</th>\n",
       "      <td>6.118244e+06</td>\n",
       "      <td>2.016010e+13</td>\n",
       "      <td>1.055814e+07</td>\n",
       "      <td>1.000000</td>\n",
       "      <td>1.000000</td>\n",
       "      <td>47.623601</td>\n",
       "      <td>-122.328874</td>\n",
       "      <td>3.000000</td>\n",
       "      <td>1.000000</td>\n",
       "      <td>1.000000</td>\n",
       "      <td>...</td>\n",
       "      <td>96.000000</td>\n",
       "      <td>10.000000</td>\n",
       "      <td>10.000000</td>\n",
       "      <td>10.000000</td>\n",
       "      <td>10.000000</td>\n",
       "      <td>10.000000</td>\n",
       "      <td>10.000000</td>\n",
       "      <td>NaN</td>\n",
       "      <td>1.000000</td>\n",
       "      <td>1.540000</td>\n",
       "    </tr>\n",
       "    <tr>\n",
       "      <th>75%</th>\n",
       "      <td>8.035127e+06</td>\n",
       "      <td>2.016010e+13</td>\n",
       "      <td>2.590309e+07</td>\n",
       "      <td>3.000000</td>\n",
       "      <td>3.000000</td>\n",
       "      <td>47.662694</td>\n",
       "      <td>-122.310800</td>\n",
       "      <td>4.000000</td>\n",
       "      <td>1.000000</td>\n",
       "      <td>2.000000</td>\n",
       "      <td>...</td>\n",
       "      <td>99.000000</td>\n",
       "      <td>10.000000</td>\n",
       "      <td>10.000000</td>\n",
       "      <td>10.000000</td>\n",
       "      <td>10.000000</td>\n",
       "      <td>10.000000</td>\n",
       "      <td>10.000000</td>\n",
       "      <td>NaN</td>\n",
       "      <td>2.000000</td>\n",
       "      <td>3.000000</td>\n",
       "    </tr>\n",
       "    <tr>\n",
       "      <th>max</th>\n",
       "      <td>1.034016e+07</td>\n",
       "      <td>2.016010e+13</td>\n",
       "      <td>5.320861e+07</td>\n",
       "      <td>502.000000</td>\n",
       "      <td>502.000000</td>\n",
       "      <td>47.733358</td>\n",
       "      <td>-122.240607</td>\n",
       "      <td>16.000000</td>\n",
       "      <td>8.000000</td>\n",
       "      <td>7.000000</td>\n",
       "      <td>...</td>\n",
       "      <td>100.000000</td>\n",
       "      <td>10.000000</td>\n",
       "      <td>10.000000</td>\n",
       "      <td>10.000000</td>\n",
       "      <td>10.000000</td>\n",
       "      <td>10.000000</td>\n",
       "      <td>10.000000</td>\n",
       "      <td>NaN</td>\n",
       "      <td>37.000000</td>\n",
       "      <td>12.150000</td>\n",
       "    </tr>\n",
       "  </tbody>\n",
       "</table>\n",
       "<p>8 rows × 30 columns</p>\n",
       "</div>"
      ],
      "text/plain": [
       "                 id     scrape_id       host_id  host_listings_count  \\\n",
       "count  3.818000e+03  3.818000e+03  3.818000e+03          3816.000000   \n",
       "mean   5.550111e+06  2.016010e+13  1.578556e+07             7.157757   \n",
       "std    2.962660e+06  0.000000e+00  1.458382e+07            28.628149   \n",
       "min    3.335000e+03  2.016010e+13  4.193000e+03             1.000000   \n",
       "25%    3.258256e+06  2.016010e+13  3.275204e+06             1.000000   \n",
       "50%    6.118244e+06  2.016010e+13  1.055814e+07             1.000000   \n",
       "75%    8.035127e+06  2.016010e+13  2.590309e+07             3.000000   \n",
       "max    1.034016e+07  2.016010e+13  5.320861e+07           502.000000   \n",
       "\n",
       "       host_total_listings_count     latitude    longitude  accommodates  \\\n",
       "count                3816.000000  3818.000000  3818.000000   3818.000000   \n",
       "mean                    7.157757    47.628961  -122.333103      3.349398   \n",
       "std                    28.628149     0.043052     0.031745      1.977599   \n",
       "min                     1.000000    47.505088  -122.417219      1.000000   \n",
       "25%                     1.000000    47.609418  -122.354320      2.000000   \n",
       "50%                     1.000000    47.623601  -122.328874      3.000000   \n",
       "75%                     3.000000    47.662694  -122.310800      4.000000   \n",
       "max                   502.000000    47.733358  -122.240607     16.000000   \n",
       "\n",
       "         bathrooms     bedrooms        ...          review_scores_rating  \\\n",
       "count  3802.000000  3812.000000        ...                   3171.000000   \n",
       "mean      1.259469     1.307712        ...                     94.539262   \n",
       "std       0.590369     0.883395        ...                      6.606083   \n",
       "min       0.000000     0.000000        ...                     20.000000   \n",
       "25%       1.000000     1.000000        ...                     93.000000   \n",
       "50%       1.000000     1.000000        ...                     96.000000   \n",
       "75%       1.000000     2.000000        ...                     99.000000   \n",
       "max       8.000000     7.000000        ...                    100.000000   \n",
       "\n",
       "       review_scores_accuracy  review_scores_cleanliness  \\\n",
       "count             3160.000000                3165.000000   \n",
       "mean                 9.636392                   9.556398   \n",
       "std                  0.698031                   0.797274   \n",
       "min                  2.000000                   3.000000   \n",
       "25%                  9.000000                   9.000000   \n",
       "50%                 10.000000                  10.000000   \n",
       "75%                 10.000000                  10.000000   \n",
       "max                 10.000000                  10.000000   \n",
       "\n",
       "       review_scores_checkin  review_scores_communication  \\\n",
       "count            3160.000000                  3167.000000   \n",
       "mean                9.786709                     9.809599   \n",
       "std                 0.595499                     0.568211   \n",
       "min                 2.000000                     2.000000   \n",
       "25%                10.000000                    10.000000   \n",
       "50%                10.000000                    10.000000   \n",
       "75%                10.000000                    10.000000   \n",
       "max                10.000000                    10.000000   \n",
       "\n",
       "       review_scores_location  review_scores_value  license  \\\n",
       "count             3163.000000          3162.000000      0.0   \n",
       "mean                 9.608916             9.452245      NaN   \n",
       "std                  0.629053             0.750259      NaN   \n",
       "min                  4.000000             2.000000      NaN   \n",
       "25%                  9.000000             9.000000      NaN   \n",
       "50%                 10.000000            10.000000      NaN   \n",
       "75%                 10.000000            10.000000      NaN   \n",
       "max                 10.000000            10.000000      NaN   \n",
       "\n",
       "       calculated_host_listings_count  reviews_per_month  \n",
       "count                     3818.000000        3191.000000  \n",
       "mean                         2.946307           2.078919  \n",
       "std                          5.893029           1.822348  \n",
       "min                          1.000000           0.020000  \n",
       "25%                          1.000000           0.695000  \n",
       "50%                          1.000000           1.540000  \n",
       "75%                          2.000000           3.000000  \n",
       "max                         37.000000          12.150000  \n",
       "\n",
       "[8 rows x 30 columns]"
      ]
     },
     "execution_count": 4,
     "metadata": {},
     "output_type": "execute_result"
    }
   ],
   "source": [
    "listings.describe()"
   ]
  },
  {
   "cell_type": "markdown",
   "metadata": {
    "collapsed": true
   },
   "source": [
    "## Cleaning data\n",
    "The data is already quite clean, but some cleaning steps are necessary to make the data ready for modelling\n",
    "- Drop unnecessary columns\n",
    "- Change datatype of `host_response_rate`, `price` and `extra_people` variables from object to float\n",
    "- Transform `amenities` column into separate columns for each amenity\n",
    "- Handle small sample sizes in the `property_type` column\n",
    "- Fix erroneous values from `guests_included` column\n",
    "- Handle NaN values in numeric variables"
   ]
  },
  {
   "cell_type": "markdown",
   "metadata": {},
   "source": [
    "#### Drop unnecessary columns\n",
    "The dataset has a lot of columns, many of which are unnecessary or unsuitable for modelling, such as URL and web scrape info, various host information, as well as som superfluous info and columns with too many missing values. Below I will select which columns I will keep."
   ]
  },
  {
   "cell_type": "code",
   "execution_count": 5,
   "metadata": {
    "collapsed": false
   },
   "outputs": [],
   "source": [
    "# Create list of columns that I want to keep in the dataset\n",
    "columns = ['id', 'host_response_time', 'host_response_rate', 'host_is_superhost','neighbourhood_cleansed', 'property_type',\n",
    "           'room_type', 'accommodates', 'bathrooms', 'bedrooms', 'beds', 'bed_type', 'amenities', 'price', 'guests_included', 'extra_people',\n",
    "           'minimum_nights', 'maximum_nights', 'availability_365', 'number_of_reviews', 'review_scores_rating',\n",
    "           'review_scores_accuracy', 'review_scores_cleanliness', 'review_scores_checkin', 'review_scores_communication',\n",
    "           'review_scores_location', 'review_scores_value', 'instant_bookable', 'cancellation_policy',\n",
    "           'require_guest_profile_picture', 'require_guest_phone_verification', 'calculated_host_listings_count',\n",
    "           'reviews_per_month']"
   ]
  },
  {
   "cell_type": "code",
   "execution_count": 6,
   "metadata": {
    "collapsed": false
   },
   "outputs": [],
   "source": [
    "#Create new dataframe with only the columns defined in the above list\n",
    "col_drop = []\n",
    "for col in listings.columns:\n",
    "    if col not in columns:\n",
    "        col_drop.append(col)\n",
    "    else:\n",
    "        continue\n",
    "    \n",
    "listings_clean = listings.drop(col_drop, axis=1)"
   ]
  },
  {
   "cell_type": "code",
   "execution_count": 7,
   "metadata": {
    "collapsed": false,
    "scrolled": true
   },
   "outputs": [
    {
     "name": "stdout",
     "output_type": "stream",
     "text": [
      "<class 'pandas.core.frame.DataFrame'>\n",
      "RangeIndex: 3818 entries, 0 to 3817\n",
      "Data columns (total 33 columns):\n",
      "id                                  3818 non-null int64\n",
      "host_response_time                  3295 non-null object\n",
      "host_response_rate                  3295 non-null object\n",
      "host_is_superhost                   3816 non-null object\n",
      "neighbourhood_cleansed              3818 non-null object\n",
      "property_type                       3817 non-null object\n",
      "room_type                           3818 non-null object\n",
      "accommodates                        3818 non-null int64\n",
      "bathrooms                           3802 non-null float64\n",
      "bedrooms                            3812 non-null float64\n",
      "beds                                3817 non-null float64\n",
      "bed_type                            3818 non-null object\n",
      "amenities                           3818 non-null object\n",
      "price                               3818 non-null object\n",
      "guests_included                     3818 non-null int64\n",
      "extra_people                        3818 non-null object\n",
      "minimum_nights                      3818 non-null int64\n",
      "maximum_nights                      3818 non-null int64\n",
      "availability_365                    3818 non-null int64\n",
      "number_of_reviews                   3818 non-null int64\n",
      "review_scores_rating                3171 non-null float64\n",
      "review_scores_accuracy              3160 non-null float64\n",
      "review_scores_cleanliness           3165 non-null float64\n",
      "review_scores_checkin               3160 non-null float64\n",
      "review_scores_communication         3167 non-null float64\n",
      "review_scores_location              3163 non-null float64\n",
      "review_scores_value                 3162 non-null float64\n",
      "instant_bookable                    3818 non-null object\n",
      "cancellation_policy                 3818 non-null object\n",
      "require_guest_profile_picture       3818 non-null object\n",
      "require_guest_phone_verification    3818 non-null object\n",
      "calculated_host_listings_count      3818 non-null int64\n",
      "reviews_per_month                   3191 non-null float64\n",
      "dtypes: float64(11), int64(8), object(14)\n",
      "memory usage: 984.4+ KB\n"
     ]
    }
   ],
   "source": [
    "listings_clean.info()"
   ]
  },
  {
   "cell_type": "markdown",
   "metadata": {},
   "source": [
    "##### Change datatype of `host_response_rate`, `price` and `extra_people` variables from object to float\n",
    "The `host_response_rate` columns is a string with a % sign in front. I need to remove the % and change datatype.\n",
    "\n",
    "The columns with dollar values are formatted as strings with a \\$ in front of the number and a comma as the thousands separator. I need to remove the $ and the comma and then convert to float."
   ]
  },
  {
   "cell_type": "code",
   "execution_count": 8,
   "metadata": {
    "collapsed": false
   },
   "outputs": [],
   "source": [
    "# Function to remove % and change datatype to float\n",
    "def percent_to_float(df, col):\n",
    "    df[col] = df[col].str.replace('%','').astype(float)/100\n",
    "    \n",
    "percent_to_float(listings_clean, 'host_response_rate')"
   ]
  },
  {
   "cell_type": "code",
   "execution_count": 9,
   "metadata": {
    "collapsed": false
   },
   "outputs": [],
   "source": [
    "# Function to remove $ and , and change to float\n",
    "def price_to_float(df, col):\n",
    "    df[col] = df[col].str.replace(',','').str.replace('$','').astype(float)\n",
    "\n",
    "price_to_float(listings_clean, 'price')\n",
    "price_to_float(listings_clean, 'extra_people')"
   ]
  },
  {
   "cell_type": "markdown",
   "metadata": {},
   "source": [
    "#### Transform `amenities` column into separate columns for each amenity\n",
    "The `amenities` column is formatted as a long string in each with every amenity in the listing. I need to split these up into separate columns for each amenity. To avoid creating columns with almost not non-null values, I will only create columns for amenities that show up at least 5 times."
   ]
  },
  {
   "cell_type": "code",
   "execution_count": 10,
   "metadata": {
    "collapsed": false
   },
   "outputs": [],
   "source": [
    "# Create list of unique items in the 'amenities' column\n",
    "amenities = listings_clean.amenities.str.replace('\"','').str.replace('{','').str.replace('}','').str.split(',')\n",
    "amenities = list(set(x for item in amenities for x in item))\n",
    "# Remove one item which is a blank space\n",
    "amenities.remove('')"
   ]
  },
  {
   "cell_type": "code",
   "execution_count": 11,
   "metadata": {
    "collapsed": false,
    "scrolled": true
   },
   "outputs": [
    {
     "data": {
      "text/plain": [
       "['Other pet(s)',\n",
       " 'Pool',\n",
       " 'Suitable for Events',\n",
       " 'Elevator in Building',\n",
       " 'Cable TV',\n",
       " 'Family/Kid Friendly',\n",
       " 'Laptop Friendly Workspace',\n",
       " 'Wheelchair Accessible',\n",
       " 'Dryer',\n",
       " 'Safety Card',\n",
       " 'Essentials',\n",
       " 'Air Conditioning',\n",
       " 'Buzzer/Wireless Intercom',\n",
       " 'Kitchen',\n",
       " 'Breakfast',\n",
       " 'Doorman',\n",
       " 'Lock on Bedroom Door',\n",
       " 'Dog(s)',\n",
       " 'Free Parking on Premises',\n",
       " 'Indoor Fireplace',\n",
       " 'TV',\n",
       " 'Gym',\n",
       " 'Carbon Monoxide Detector',\n",
       " 'Pets live on this property',\n",
       " 'Smoke Detector',\n",
       " 'Wireless Internet',\n",
       " '24-Hour Check-in',\n",
       " 'Shampoo',\n",
       " 'Internet',\n",
       " 'Washer',\n",
       " 'First Aid Kit',\n",
       " 'Iron',\n",
       " 'Smoking Allowed',\n",
       " 'Fire Extinguisher',\n",
       " 'Hangers',\n",
       " 'Hot Tub',\n",
       " 'Heating',\n",
       " 'Pets Allowed',\n",
       " 'Cat(s)',\n",
       " 'Washer / Dryer',\n",
       " 'Hair Dryer']"
      ]
     },
     "execution_count": 11,
     "metadata": {},
     "output_type": "execute_result"
    }
   ],
   "source": [
    "amenities"
   ]
  },
  {
   "cell_type": "code",
   "execution_count": 12,
   "metadata": {
    "collapsed": true
   },
   "outputs": [],
   "source": [
    "#Function to create a new column for each amenity and set a true or false value if the amenity is present in the listing.\n",
    "#The function will only create columns for amenities which show up at least 5 times in the amenities column\n",
    "def add_amenities(df, search_col, lst):\n",
    "    for item in lst:\n",
    "        if sum(df[search_col].str.contains(item)) >= 5:\n",
    "            df[item] = df[search_col].str.contains(item)\n",
    "    return df"
   ]
  },
  {
   "cell_type": "code",
   "execution_count": 13,
   "metadata": {
    "collapsed": false
   },
   "outputs": [
    {
     "name": "stderr",
     "output_type": "stream",
     "text": [
      "C:\\ProgramData\\Anaconda3\\lib\\site-packages\\ipykernel\\__main__.py:5: UserWarning: This pattern has match groups. To actually get the groups, use str.extract.\n"
     ]
    }
   ],
   "source": [
    "# Run the function to add new amenities columns and drop the original column from the dataset\n",
    "listings_clean = add_amenities(listings_clean, 'amenities', amenities)\n",
    "listings_clean.drop('amenities', axis=1, inplace=True)"
   ]
  },
  {
   "cell_type": "markdown",
   "metadata": {},
   "source": [
    "#### Handle small sample sizes in the `property_type` column\n",
    "As seen in the plot below, some property types show up very few times in the data, and after running early versions of the model seem to create problems due to the small sample sizes. I have therefore limited the dataset to property types that appear at least 10 times in the data."
   ]
  },
  {
   "cell_type": "code",
   "execution_count": 14,
   "metadata": {
    "collapsed": false
   },
   "outputs": [
    {
     "data": {
      "image/png": "[encoded data removed]",
      "text/plain": [
       "<matplotlib.figure.Figure at 0x24ac2702eb8>"
      ]
     },
     "metadata": {},
     "output_type": "display_data"
    }
   ],
   "source": [
    "sns.countplot(data=listings_clean, x='property_type')\n",
    "plt.xticks(rotation=90);"
   ]
  },
  {
   "cell_type": "code",
   "execution_count": 15,
   "metadata": {
    "collapsed": false
   },
   "outputs": [],
   "source": [
    "#Make a list of property types that appear at least 10 times\n",
    "property_types = (listings_clean['property_type'].value_counts() >= 10).to_frame().query('property_type == True').index\n",
    "\n",
    "#Keep only property types that appear at least 10 times\n",
    "listings_clean = listings_clean[listings_clean['property_type'].isin(property_types)]\n",
    "listings_clean = listings_clean.reset_index(drop=True)"
   ]
  },
  {
   "cell_type": "markdown",
   "metadata": {},
   "source": [
    "##### Fix \"missing\" values from `guests_included` column\n",
    "The `guests_included` column contain 92 zero values, but not Null values. As it's highly unlikely that there are listings which have no guests included, I feel confident that I can fill these rows with the value from the `accommodates` column. The difference between `guests_included` and `accommodates` is in most cases small, so even though this will create a some small errors in the `guests_included` columns, I feel confident it will not significantly reduce the quality of the data.\n",
    "\n",
    "There are also 22 cases where `guests_included` is higher than `accommodates`, which doesn't make sense. I will replace the value in `guests_included` with the value from `accommodates`\n",
    "\n",
    "The reason for including and cleaning the `guests_included` column is that I want to create a new feature that shows price per guest included."
   ]
  },
  {
   "cell_type": "code",
   "execution_count": 16,
   "metadata": {
    "collapsed": false
   },
   "outputs": [
    {
     "name": "stdout",
     "output_type": "stream",
     "text": [
      "92\n",
      "22\n"
     ]
    }
   ],
   "source": [
    "print(len(listings_clean[listings_clean['guests_included']==0]))\n",
    "print(len(listings_clean[listings_clean['guests_included'] > listings_clean['accommodates']]))"
   ]
  },
  {
   "cell_type": "code",
   "execution_count": 17,
   "metadata": {
    "collapsed": true
   },
   "outputs": [],
   "source": [
    "#If guests_included column is 0, replace with value from accommodates column\n",
    "listings_clean['guests_included'] = np.where(listings_clean['guests_included'] == 0, listings_clean['accommodates'], listings_clean['guests_included'])\n",
    "listings_clean['guests_included'] = np.where(listings_clean['guests_included'] > listings_clean['accommodates'], listings_clean['accommodates'], listings_clean['guests_included'])"
   ]
  },
  {
   "cell_type": "markdown",
   "metadata": {},
   "source": [
    "#### Handle NaN values in numeric variables\n",
    "Some of the numeric variables contain NaN values that need to be handled before the model can be fitted. I want to keep as many observations as possible in the dataset, so I prefer not to drop the rows with missing values. The missing values are mostly in the review score columns. Looking at the review score, there is not a lot of spread or variation in the numbers, so imputing the mean should not cause any major problems."
   ]
  },
  {
   "cell_type": "code",
   "execution_count": 18,
   "metadata": {
    "collapsed": false
   },
   "outputs": [
    {
     "data": {
      "text/html": [
       "<div>\n",
       "<table border=\"1\" class=\"dataframe\">\n",
       "  <thead>\n",
       "    <tr style=\"text-align: right;\">\n",
       "      <th></th>\n",
       "      <th>review_scores_rating</th>\n",
       "      <th>review_scores_accuracy</th>\n",
       "      <th>review_scores_cleanliness</th>\n",
       "      <th>review_scores_checkin</th>\n",
       "      <th>review_scores_communication</th>\n",
       "      <th>review_scores_location</th>\n",
       "      <th>review_scores_value</th>\n",
       "    </tr>\n",
       "  </thead>\n",
       "  <tbody>\n",
       "    <tr>\n",
       "      <th>count</th>\n",
       "      <td>3155.000000</td>\n",
       "      <td>3145.000000</td>\n",
       "      <td>3149.000000</td>\n",
       "      <td>3144.000000</td>\n",
       "      <td>3151.000000</td>\n",
       "      <td>3147.000000</td>\n",
       "      <td>3146.000000</td>\n",
       "    </tr>\n",
       "    <tr>\n",
       "      <th>mean</th>\n",
       "      <td>94.544849</td>\n",
       "      <td>9.636248</td>\n",
       "      <td>9.557002</td>\n",
       "      <td>9.788486</td>\n",
       "      <td>9.811488</td>\n",
       "      <td>9.610105</td>\n",
       "      <td>9.452956</td>\n",
       "    </tr>\n",
       "    <tr>\n",
       "      <th>std</th>\n",
       "      <td>6.603126</td>\n",
       "      <td>0.698933</td>\n",
       "      <td>0.796079</td>\n",
       "      <td>0.590610</td>\n",
       "      <td>0.559485</td>\n",
       "      <td>0.627966</td>\n",
       "      <td>0.750524</td>\n",
       "    </tr>\n",
       "    <tr>\n",
       "      <th>min</th>\n",
       "      <td>20.000000</td>\n",
       "      <td>2.000000</td>\n",
       "      <td>3.000000</td>\n",
       "      <td>2.000000</td>\n",
       "      <td>2.000000</td>\n",
       "      <td>4.000000</td>\n",
       "      <td>2.000000</td>\n",
       "    </tr>\n",
       "    <tr>\n",
       "      <th>25%</th>\n",
       "      <td>93.000000</td>\n",
       "      <td>9.000000</td>\n",
       "      <td>9.000000</td>\n",
       "      <td>10.000000</td>\n",
       "      <td>10.000000</td>\n",
       "      <td>9.000000</td>\n",
       "      <td>9.000000</td>\n",
       "    </tr>\n",
       "    <tr>\n",
       "      <th>50%</th>\n",
       "      <td>96.000000</td>\n",
       "      <td>10.000000</td>\n",
       "      <td>10.000000</td>\n",
       "      <td>10.000000</td>\n",
       "      <td>10.000000</td>\n",
       "      <td>10.000000</td>\n",
       "      <td>10.000000</td>\n",
       "    </tr>\n",
       "    <tr>\n",
       "      <th>75%</th>\n",
       "      <td>99.000000</td>\n",
       "      <td>10.000000</td>\n",
       "      <td>10.000000</td>\n",
       "      <td>10.000000</td>\n",
       "      <td>10.000000</td>\n",
       "      <td>10.000000</td>\n",
       "      <td>10.000000</td>\n",
       "    </tr>\n",
       "    <tr>\n",
       "      <th>max</th>\n",
       "      <td>100.000000</td>\n",
       "      <td>10.000000</td>\n",
       "      <td>10.000000</td>\n",
       "      <td>10.000000</td>\n",
       "      <td>10.000000</td>\n",
       "      <td>10.000000</td>\n",
       "      <td>10.000000</td>\n",
       "    </tr>\n",
       "  </tbody>\n",
       "</table>\n",
       "</div>"
      ],
      "text/plain": [
       "       review_scores_rating  review_scores_accuracy  \\\n",
       "count           3155.000000             3145.000000   \n",
       "mean              94.544849                9.636248   \n",
       "std                6.603126                0.698933   \n",
       "min               20.000000                2.000000   \n",
       "25%               93.000000                9.000000   \n",
       "50%               96.000000               10.000000   \n",
       "75%               99.000000               10.000000   \n",
       "max              100.000000               10.000000   \n",
       "\n",
       "       review_scores_cleanliness  review_scores_checkin  \\\n",
       "count                3149.000000            3144.000000   \n",
       "mean                    9.557002               9.788486   \n",
       "std                     0.796079               0.590610   \n",
       "min                     3.000000               2.000000   \n",
       "25%                     9.000000              10.000000   \n",
       "50%                    10.000000              10.000000   \n",
       "75%                    10.000000              10.000000   \n",
       "max                    10.000000              10.000000   \n",
       "\n",
       "       review_scores_communication  review_scores_location  \\\n",
       "count                  3151.000000             3147.000000   \n",
       "mean                      9.811488                9.610105   \n",
       "std                       0.559485                0.627966   \n",
       "min                       2.000000                4.000000   \n",
       "25%                      10.000000                9.000000   \n",
       "50%                      10.000000               10.000000   \n",
       "75%                      10.000000               10.000000   \n",
       "max                      10.000000               10.000000   \n",
       "\n",
       "       review_scores_value  \n",
       "count          3146.000000  \n",
       "mean              9.452956  \n",
       "std               0.750524  \n",
       "min               2.000000  \n",
       "25%               9.000000  \n",
       "50%              10.000000  \n",
       "75%              10.000000  \n",
       "max              10.000000  "
      ]
     },
     "execution_count": 18,
     "metadata": {},
     "output_type": "execute_result"
    }
   ],
   "source": [
    "listings_clean[['review_scores_rating', 'review_scores_accuracy', 'review_scores_cleanliness', 'review_scores_checkin',\n",
    "                'review_scores_communication', 'review_scores_location', 'review_scores_value']].describe()"
   ]
  },
  {
   "cell_type": "code",
   "execution_count": 19,
   "metadata": {
    "collapsed": false
   },
   "outputs": [],
   "source": [
    "# Create list of numeric variables\n",
    "num_vars = listings_clean.select_dtypes(include=['int', 'float'])\n",
    "\n",
    "# Function to fill NaN values with mean\n",
    "fill_mean = lambda col: col.fillna(col.mean())\n",
    "\n",
    "#Apply the function on columns with numeric variables\n",
    "listings_clean[num_vars.columns] = listings_clean[num_vars.columns].apply(fill_mean, axis=0)"
   ]
  },
  {
   "cell_type": "code",
   "execution_count": 20,
   "metadata": {
    "collapsed": false,
    "scrolled": true
   },
   "outputs": [
    {
     "name": "stdout",
     "output_type": "stream",
     "text": [
      "<class 'pandas.core.frame.DataFrame'>\n",
      "RangeIndex: 3796 entries, 0 to 3795\n",
      "Data columns (total 69 columns):\n",
      "id                                  3796 non-null int64\n",
      "host_response_time                  3282 non-null object\n",
      "host_response_rate                  3796 non-null float64\n",
      "host_is_superhost                   3794 non-null object\n",
      "neighbourhood_cleansed              3796 non-null object\n",
      "property_type                       3796 non-null object\n",
      "room_type                           3796 non-null object\n",
      "accommodates                        3796 non-null int64\n",
      "bathrooms                           3796 non-null float64\n",
      "bedrooms                            3796 non-null float64\n",
      "beds                                3796 non-null float64\n",
      "bed_type                            3796 non-null object\n",
      "price                               3796 non-null float64\n",
      "guests_included                     3796 non-null int64\n",
      "extra_people                        3796 non-null float64\n",
      "minimum_nights                      3796 non-null int64\n",
      "maximum_nights                      3796 non-null int64\n",
      "availability_365                    3796 non-null int64\n",
      "number_of_reviews                   3796 non-null int64\n",
      "review_scores_rating                3796 non-null float64\n",
      "review_scores_accuracy              3796 non-null float64\n",
      "review_scores_cleanliness           3796 non-null float64\n",
      "review_scores_checkin               3796 non-null float64\n",
      "review_scores_communication         3796 non-null float64\n",
      "review_scores_location              3796 non-null float64\n",
      "review_scores_value                 3796 non-null float64\n",
      "instant_bookable                    3796 non-null object\n",
      "cancellation_policy                 3796 non-null object\n",
      "require_guest_profile_picture       3796 non-null object\n",
      "require_guest_phone_verification    3796 non-null object\n",
      "calculated_host_listings_count      3796 non-null int64\n",
      "reviews_per_month                   3796 non-null float64\n",
      "Pool                                3796 non-null bool\n",
      "Suitable for Events                 3796 non-null bool\n",
      "Elevator in Building                3796 non-null bool\n",
      "Cable TV                            3796 non-null bool\n",
      "Family/Kid Friendly                 3796 non-null bool\n",
      "Laptop Friendly Workspace           3796 non-null bool\n",
      "Wheelchair Accessible               3796 non-null bool\n",
      "Dryer                               3796 non-null bool\n",
      "Safety Card                         3796 non-null bool\n",
      "Essentials                          3796 non-null bool\n",
      "Air Conditioning                    3796 non-null bool\n",
      "Buzzer/Wireless Intercom            3796 non-null bool\n",
      "Kitchen                             3796 non-null bool\n",
      "Breakfast                           3796 non-null bool\n",
      "Doorman                             3796 non-null bool\n",
      "Lock on Bedroom Door                3796 non-null bool\n",
      "Free Parking on Premises            3796 non-null bool\n",
      "Indoor Fireplace                    3796 non-null bool\n",
      "TV                                  3796 non-null bool\n",
      "Gym                                 3796 non-null bool\n",
      "Carbon Monoxide Detector            3796 non-null bool\n",
      "Pets live on this property          3796 non-null bool\n",
      "Smoke Detector                      3796 non-null bool\n",
      "Wireless Internet                   3796 non-null bool\n",
      "24-Hour Check-in                    3796 non-null bool\n",
      "Shampoo                             3796 non-null bool\n",
      "Internet                            3796 non-null bool\n",
      "Washer                              3796 non-null bool\n",
      "First Aid Kit                       3796 non-null bool\n",
      "Iron                                3796 non-null bool\n",
      "Smoking Allowed                     3796 non-null bool\n",
      "Fire Extinguisher                   3796 non-null bool\n",
      "Hangers                             3796 non-null bool\n",
      "Hot Tub                             3796 non-null bool\n",
      "Heating                             3796 non-null bool\n",
      "Pets Allowed                        3796 non-null bool\n",
      "Hair Dryer                          3796 non-null bool\n",
      "dtypes: bool(37), float64(14), int64(8), object(10)\n",
      "memory usage: 1.1+ MB\n"
     ]
    }
   ],
   "source": [
    "listings_clean.info()"
   ]
  },
  {
   "cell_type": "markdown",
   "metadata": {},
   "source": [
    "## Data modelling and visualization\n",
    "After cleaning the data, we are ready to start building a model. I will try to build a linear regression model to predict the price of a listing. First I will fit a model using only the numeric variables in the dataset."
   ]
  },
  {
   "cell_type": "code",
   "execution_count": 21,
   "metadata": {
    "collapsed": false
   },
   "outputs": [],
   "source": [
    "# Create list of numeric variables without the price variable\n",
    "num_vars_drop_price = num_vars.drop('price', axis=1).columns\n",
    "\n",
    "# Split into explanatory and response variables\n",
    "X = listings_clean[num_vars_drop_price]\n",
    "y = listings_clean['price']\n",
    "\n",
    "# Split into train and test data\n",
    "X_train, X_test, y_train, y_test = train_test_split(X, y, test_size = .30, random_state=42)\n",
    "\n",
    "lm_model = LinearRegression(normalize=True) # Instantiate\n",
    "lm_model.fit(X_train, y_train) #Fit\n",
    "\n",
    "#Predict and score the model\n",
    "y_test_preds = lm_model.predict(X_test) \n",
    "y_train_preds = lm_model.predict(X_train)\n",
    "\n",
    "test_score = r2_score(y_test, y_test_preds)\n",
    "train_score = r2_score(y_train, y_train_preds)"
   ]
  },
  {
   "cell_type": "code",
   "execution_count": 22,
   "metadata": {
    "collapsed": false
   },
   "outputs": [
    {
     "name": "stdout",
     "output_type": "stream",
     "text": [
      "0.520427282551\n"
     ]
    }
   ],
   "source": [
    "print(test_score)"
   ]
  },
  {
   "cell_type": "markdown",
   "metadata": {},
   "source": [
    "The first prediction gave us som rather mediocre results. With an r squared score of 0.52, about half of the variation in the price can be explained by the model.\n",
    "\n",
    "I will try adding in the categorical variables. First I have to turn all categorical variables into dummy variables. The following function will be used for creating dummies. The function is based on the function used in the Udacity lesson on the data science process."
   ]
  },
  {
   "cell_type": "code",
   "execution_count": 23,
   "metadata": {
    "collapsed": true
   },
   "outputs": [],
   "source": [
    "def create_dummy_df(df, cat_cols, dummy_na):\n",
    "    '''\n",
    "    INPUT:\n",
    "    df - pandas dataframe with categorical variables you want to dummy\n",
    "    cat_cols - list of strings that are associated with names of the categorical columns\n",
    "    dummy_na - Bool holding whether you want to dummy NA vals of categorical columns or not\n",
    "    \n",
    "    OUTPUT:\n",
    "    df - a new dataframe that has the following characteristics:\n",
    "            1. contains all columns that were not specified as categorical\n",
    "            2. removes all the original columns in cat_cols\n",
    "            3. dummy columns for each of the categorical columns in cat_cols\n",
    "            4. if dummy_na is True - it also contains dummy columns for the NaN values\n",
    "            5. Use a prefix of the column name with an underscore (_) for separating \n",
    "    '''\n",
    "    \n",
    "    for col in cat_cols:\n",
    "        try:\n",
    "            df = pd.concat([df.drop(col, axis=1), pd.get_dummies(df[col], prefix=col, prefix_sep='_', drop_first=True, dummy_na=dummy_na)], axis=1)\n",
    "        except:\n",
    "            continue\n",
    "\n",
    "    return df"
   ]
  },
  {
   "cell_type": "code",
   "execution_count": 24,
   "metadata": {
    "collapsed": false
   },
   "outputs": [],
   "source": [
    "#Create list of categorical columns\n",
    "cat_cols = listings_clean.select_dtypes(include=['object', 'bool'])\n",
    "cat_cols_list = cat_cols.columns"
   ]
  },
  {
   "cell_type": "markdown",
   "metadata": {},
   "source": [
    "With a list of categorical columns ready, I can use the following function, which includes the dummy function, to fit a new model. The function is based on the function used in the Udacity lesson on the data science process."
   ]
  },
  {
   "cell_type": "code",
   "execution_count": 25,
   "metadata": {
    "collapsed": true
   },
   "outputs": [],
   "source": [
    "def linear_model(df, response_col, id_col, cat_cols, dummy_na, test_size=.3, rand_state=42):\n",
    "    '''\n",
    "    INPUT:\n",
    "    df - a dataframe holding all the variables of interest\n",
    "    response_col - a string holding the name of the column\n",
    "    id_col - a string holding the name of the id column to be removed before fitting\n",
    "    cat_cols - list of strings that are associated with names of the categorical columns\n",
    "    dummy_na - Bool holding whether you want to dummy NA vals of categorical columns or not\n",
    "    test_size - a float between [0,1] about what proportion of data should be in the test dataset\n",
    "    rand_state - an int that is provided as the random state for splitting the data into training and test \n",
    "    \n",
    "    OUTPUT:\n",
    "    test_score - float - r2 score on the test data\n",
    "    train_score - float - r2 score on the test data\n",
    "    lm_model - model object from sklearn\n",
    "    X_train, X_test, y_train, y_test - output from sklearn train test split\n",
    "    '''\n",
    "    #Create dummies\n",
    "    df = create_dummy_df(df, cat_cols, dummy_na)\n",
    "    \n",
    "    #Split data into X matrix and y\n",
    "    X = df.drop([response_col, id_col], axis=1)\n",
    "    y = df[response_col]\n",
    "    \n",
    "    #Create training and test data\n",
    "    X_train, X_test, y_train, y_test = train_test_split(X, y, test_size=test_size, random_state=rand_state)\n",
    "    \n",
    "    #Instantiate and fit model\n",
    "    lm_model = LinearRegression(normalize=True)\n",
    "    lm_model.fit(X_train, y_train)\n",
    "    \n",
    "    #Predict responses\n",
    "    y_test_preds = lm_model.predict(X_test)\n",
    "    y_train_preds = lm_model.predict(X_train)\n",
    "    \n",
    "    #Score model\n",
    "    test_score = r2_score(y_test, y_test_preds)\n",
    "    train_score = r2_score(y_train, y_train_preds) \n",
    "\n",
    "    return test_score, train_score, lm_model, X_train, X_test, y_train, y_test, y_test_preds"
   ]
  },
  {
   "cell_type": "code",
   "execution_count": 26,
   "metadata": {
    "collapsed": false
   },
   "outputs": [],
   "source": [
    "test_score, train_score, lm_model, X_train, X_test, y_train, y_test, y_test_preds = linear_model(listings_clean, 'price', 'id', cat_cols_list, dummy_na=False, rand_state=15)"
   ]
  },
  {
   "cell_type": "code",
   "execution_count": 27,
   "metadata": {
    "collapsed": false
   },
   "outputs": [
    {
     "data": {
      "text/plain": [
       "0.6145887765521072"
      ]
     },
     "execution_count": 27,
     "metadata": {},
     "output_type": "execute_result"
    }
   ],
   "source": [
    "train_score"
   ]
  },
  {
   "cell_type": "code",
   "execution_count": 28,
   "metadata": {
    "collapsed": false
   },
   "outputs": [
    {
     "data": {
      "text/plain": [
       "0.63009596240716559"
      ]
     },
     "execution_count": 28,
     "metadata": {},
     "output_type": "execute_result"
    }
   ],
   "source": [
    "test_score"
   ]
  },
  {
   "cell_type": "code",
   "execution_count": 29,
   "metadata": {
    "collapsed": false
   },
   "outputs": [
    {
     "data": {
      "text/plain": [
       "23.846632353472245"
      ]
     },
     "execution_count": 29,
     "metadata": {},
     "output_type": "execute_result"
    }
   ],
   "source": [
    "median_absolute_error(y_test, y_test_preds)"
   ]
  },
  {
   "cell_type": "markdown",
   "metadata": {},
   "source": [
    "The new model gave better results than the earlier model with only numeric variables. The r2 score still isn't great, but a definite improvement. About 63% of the variation can be explained by the model, and the median absolute error of the prediction is about 24 dollars. I want to take a look at the residuals to look at the errors in more detail."
   ]
  },
  {
   "cell_type": "code",
   "execution_count": 30,
   "metadata": {
    "collapsed": false
   },
   "outputs": [],
   "source": [
    "#Create a dataframe with residuals\n",
    "residuals_dict = {'y_test': y_test, 'y_test_preds': y_test_preds}\n",
    "residuals_df = pd.DataFrame(data=residuals_dict)\n",
    "residuals_df['residuals'] = residuals_df['y_test_preds'] - residuals_df['y_test']\n",
    "residuals_df['abs_residuals'] = np.abs(residuals_df['residuals'])"
   ]
  },
  {
   "cell_type": "code",
   "execution_count": 31,
   "metadata": {
    "collapsed": false
   },
   "outputs": [
    {
     "data": {
      "image/png": "[encoded data removed]",
      "text/plain": [
       "<matplotlib.figure.Figure at 0x24ac273f358>"
      ]
     },
     "metadata": {},
     "output_type": "display_data"
    }
   ],
   "source": [
    "#Plot the resudials\n",
    "plt.figure(figsize=[10,6])\n",
    "plt.plot(residuals_df['residuals'].reset_index(drop=True), marker='o', linestyle='')\n",
    "plt.title('Residuals of the linear regression model', fontsize=20)\n",
    "plt.ylabel('$ diff predicted and actual price', fontsize=12)\n",
    "plt.xlabel('Observation #', fontsize=12);"
   ]
  },
  {
   "cell_type": "markdown",
   "metadata": {},
   "source": [
    "The plot of the residuals shows quite clearly that the model struggles most with predicting listings with higher prices, as it more frequently predicts prices that are too low. This is not unexpected, as most of the listings in the dataset are priced around the mean, and the model hasn't had that many examples of high priced listings to train with.\n",
    "\n",
    "I want to look at the coefficients to see which of the columns have had the biggest influence on the predictions, using the function below. The function is based on the function used in the Udacity lesson on the data science process."
   ]
  },
  {
   "cell_type": "code",
   "execution_count": 32,
   "metadata": {
    "collapsed": true
   },
   "outputs": [],
   "source": [
    "def coef_weights(coefficients, X_train):\n",
    "    '''\n",
    "    INPUT:\n",
    "    coefficients - the coefficients of the linear model \n",
    "    X_train - the training data, so the column names can be used\n",
    "    OUTPUT:\n",
    "    coefs_df - a dataframe holding the coefficient, estimate, and abs(estimate)\n",
    "    \n",
    "    Provides a dataframe that can be used to understand the most influential coefficients\n",
    "    in a linear model by providing the coefficient estimates along with the name of the \n",
    "    variable attached to the coefficient.\n",
    "    '''\n",
    "    coefs_df = pd.DataFrame()\n",
    "    coefs_df['est_int'] = X_train.columns\n",
    "    coefs_df['coefs'] = lm_model.coef_\n",
    "    coefs_df['abs_coefs'] = np.abs(lm_model.coef_)\n",
    "    coefs_df = coefs_df.sort_values('abs_coefs', ascending=False)\n",
    "    return coefs_df"
   ]
  },
  {
   "cell_type": "code",
   "execution_count": 33,
   "metadata": {
    "collapsed": false,
    "scrolled": true
   },
   "outputs": [
    {
     "data": {
      "text/html": [
       "<div>\n",
       "<table border=\"1\" class=\"dataframe\">\n",
       "  <thead>\n",
       "    <tr style=\"text-align: right;\">\n",
       "      <th></th>\n",
       "      <th>est_int</th>\n",
       "      <th>coefs</th>\n",
       "      <th>abs_coefs</th>\n",
       "    </tr>\n",
       "  </thead>\n",
       "  <tbody>\n",
       "    <tr>\n",
       "      <th>55</th>\n",
       "      <td>neighbourhood_cleansed_Industrial District</td>\n",
       "      <td>82.234125</td>\n",
       "      <td>82.234125</td>\n",
       "    </tr>\n",
       "    <tr>\n",
       "      <th>83</th>\n",
       "      <td>neighbourhood_cleansed_Pioneer Square</td>\n",
       "      <td>76.564464</td>\n",
       "      <td>76.564464</td>\n",
       "    </tr>\n",
       "    <tr>\n",
       "      <th>120</th>\n",
       "      <td>room_type_Shared room</td>\n",
       "      <td>-70.416830</td>\n",
       "      <td>70.416830</td>\n",
       "    </tr>\n",
       "    <tr>\n",
       "      <th>54</th>\n",
       "      <td>neighbourhood_cleansed_Holly Park</td>\n",
       "      <td>64.843651</td>\n",
       "      <td>64.843651</td>\n",
       "    </tr>\n",
       "    <tr>\n",
       "      <th>81</th>\n",
       "      <td>neighbourhood_cleansed_Pike-Market</td>\n",
       "      <td>64.492183</td>\n",
       "      <td>64.492183</td>\n",
       "    </tr>\n",
       "    <tr>\n",
       "      <th>96</th>\n",
       "      <td>neighbourhood_cleansed_Southeast Magnolia</td>\n",
       "      <td>60.262895</td>\n",
       "      <td>60.262895</td>\n",
       "    </tr>\n",
       "    <tr>\n",
       "      <th>95</th>\n",
       "      <td>neighbourhood_cleansed_South Park</td>\n",
       "      <td>-55.936061</td>\n",
       "      <td>55.936061</td>\n",
       "    </tr>\n",
       "    <tr>\n",
       "      <th>98</th>\n",
       "      <td>neighbourhood_cleansed_Sunset Hill</td>\n",
       "      <td>46.040269</td>\n",
       "      <td>46.040269</td>\n",
       "    </tr>\n",
       "    <tr>\n",
       "      <th>71</th>\n",
       "      <td>neighbourhood_cleansed_Montlake</td>\n",
       "      <td>45.558560</td>\n",
       "      <td>45.558560</td>\n",
       "    </tr>\n",
       "    <tr>\n",
       "      <th>84</th>\n",
       "      <td>neighbourhood_cleansed_Portage Bay</td>\n",
       "      <td>43.375431</td>\n",
       "      <td>43.375431</td>\n",
       "    </tr>\n",
       "    <tr>\n",
       "      <th>119</th>\n",
       "      <td>room_type_Private room</td>\n",
       "      <td>-40.016245</td>\n",
       "      <td>40.016245</td>\n",
       "    </tr>\n",
       "    <tr>\n",
       "      <th>31</th>\n",
       "      <td>neighbourhood_cleansed_Broadview</td>\n",
       "      <td>-39.329873</td>\n",
       "      <td>39.329873</td>\n",
       "    </tr>\n",
       "    <tr>\n",
       "      <th>61</th>\n",
       "      <td>neighbourhood_cleansed_Lower Queen Anne</td>\n",
       "      <td>37.459848</td>\n",
       "      <td>37.459848</td>\n",
       "    </tr>\n",
       "    <tr>\n",
       "      <th>47</th>\n",
       "      <td>neighbourhood_cleansed_Georgetown</td>\n",
       "      <td>-36.823344</td>\n",
       "      <td>36.823344</td>\n",
       "    </tr>\n",
       "    <tr>\n",
       "      <th>50</th>\n",
       "      <td>neighbourhood_cleansed_Haller Lake</td>\n",
       "      <td>-36.487390</td>\n",
       "      <td>36.487390</td>\n",
       "    </tr>\n",
       "    <tr>\n",
       "      <th>106</th>\n",
       "      <td>neighbourhood_cleansed_Westlake</td>\n",
       "      <td>35.448361</td>\n",
       "      <td>35.448361</td>\n",
       "    </tr>\n",
       "    <tr>\n",
       "      <th>104</th>\n",
       "      <td>neighbourhood_cleansed_West Queen Anne</td>\n",
       "      <td>35.322067</td>\n",
       "      <td>35.322067</td>\n",
       "    </tr>\n",
       "    <tr>\n",
       "      <th>92</th>\n",
       "      <td>neighbourhood_cleansed_South Beacon Hill</td>\n",
       "      <td>-34.255095</td>\n",
       "      <td>34.255095</td>\n",
       "    </tr>\n",
       "    <tr>\n",
       "      <th>144</th>\n",
       "      <td>Doorman_True</td>\n",
       "      <td>33.115354</td>\n",
       "      <td>33.115354</td>\n",
       "    </tr>\n",
       "    <tr>\n",
       "      <th>27</th>\n",
       "      <td>neighbourhood_cleansed_Belltown</td>\n",
       "      <td>32.973745</td>\n",
       "      <td>32.973745</td>\n",
       "    </tr>\n",
       "  </tbody>\n",
       "</table>\n",
       "</div>"
      ],
      "text/plain": [
       "                                        est_int      coefs  abs_coefs\n",
       "55   neighbourhood_cleansed_Industrial District  82.234125  82.234125\n",
       "83        neighbourhood_cleansed_Pioneer Square  76.564464  76.564464\n",
       "120                       room_type_Shared room -70.416830  70.416830\n",
       "54            neighbourhood_cleansed_Holly Park  64.843651  64.843651\n",
       "81           neighbourhood_cleansed_Pike-Market  64.492183  64.492183\n",
       "96    neighbourhood_cleansed_Southeast Magnolia  60.262895  60.262895\n",
       "95            neighbourhood_cleansed_South Park -55.936061  55.936061\n",
       "98           neighbourhood_cleansed_Sunset Hill  46.040269  46.040269\n",
       "71              neighbourhood_cleansed_Montlake  45.558560  45.558560\n",
       "84           neighbourhood_cleansed_Portage Bay  43.375431  43.375431\n",
       "119                      room_type_Private room -40.016245  40.016245\n",
       "31             neighbourhood_cleansed_Broadview -39.329873  39.329873\n",
       "61      neighbourhood_cleansed_Lower Queen Anne  37.459848  37.459848\n",
       "47            neighbourhood_cleansed_Georgetown -36.823344  36.823344\n",
       "50           neighbourhood_cleansed_Haller Lake -36.487390  36.487390\n",
       "106             neighbourhood_cleansed_Westlake  35.448361  35.448361\n",
       "104      neighbourhood_cleansed_West Queen Anne  35.322067  35.322067\n",
       "92     neighbourhood_cleansed_South Beacon Hill -34.255095  34.255095\n",
       "144                                Doorman_True  33.115354  33.115354\n",
       "27              neighbourhood_cleansed_Belltown  32.973745  32.973745"
      ]
     },
     "execution_count": 33,
     "metadata": {},
     "output_type": "execute_result"
    }
   ],
   "source": [
    "#Use the function\n",
    "coef_df = coef_weights(lm_model, X_train)\n",
    "\n",
    "#A quick look at the top results\n",
    "coef_df.head(20)"
   ]
  },
  {
   "cell_type": "markdown",
   "metadata": {},
   "source": [
    "Looking at the coefficients and the variable names, it's clear that neighborhood has had the biggest influence on the predictions. We can also see a couple of room types that have had a clear negative influence."
   ]
  },
  {
   "cell_type": "markdown",
   "metadata": {},
   "source": [
    "I'd like to try a different model to see if I can improve the results a bit, and I want to combine this with making some prediction intervals. For this model I have borrowed heavily from [this website](https://towardsdatascience.com/how-to-generate-prediction-intervals-with-scikit-learn-and-python-ab3899f992ed). It uses the Gradient Boosting Regressor method from Scikit learn and it uses quantiles to define the lower and upper bounds for the prediction interval."
   ]
  },
  {
   "cell_type": "code",
   "execution_count": 34,
   "metadata": {
    "collapsed": false
   },
   "outputs": [],
   "source": [
    "# Set lower and upper quantile\n",
    "lower_quantile = 0.1\n",
    "upper_quantile = 0.9\n",
    "\n",
    "#Instantiate models\n",
    "lower_model = GradientBoostingRegressor(loss=\"quantile\", alpha=lower_quantile)\n",
    "# The mid model will use the default loss, which is 'least squares'\n",
    "mid_model = GradientBoostingRegressor(loss=\"ls\", n_estimators=900, min_samples_split=4, random_state=7)\n",
    "upper_model = GradientBoostingRegressor(loss=\"quantile\", alpha=upper_quantile)"
   ]
  },
  {
   "cell_type": "code",
   "execution_count": 35,
   "metadata": {
    "collapsed": false
   },
   "outputs": [],
   "source": [
    "# Fit models\n",
    "lower_model.fit(X_train, y_train)\n",
    "mid_model.fit(X_train, y_train)\n",
    "upper_model.fit(X_train, y_train)\n",
    "# Record actual values on test set\n",
    "predictions = pd.DataFrame(y_test)\n",
    "# Predict\n",
    "predictions['lower'] = lower_model.predict(X_test)\n",
    "predictions['mid'] = mid_model.predict(X_test)\n",
    "predictions['upper'] = upper_model.predict(X_test)"
   ]
  },
  {
   "cell_type": "code",
   "execution_count": 36,
   "metadata": {
    "collapsed": false
   },
   "outputs": [
    {
     "name": "stdout",
     "output_type": "stream",
     "text": [
      "0.0902401314402\n",
      "0.696164640806\n",
      "0.377364715148\n"
     ]
    }
   ],
   "source": [
    "print(r2_score(y_test, predictions['lower']))\n",
    "print(r2_score(y_test, predictions['mid']))\n",
    "print(r2_score(y_test, predictions['upper']))"
   ]
  },
  {
   "cell_type": "code",
   "execution_count": 37,
   "metadata": {
    "collapsed": false
   },
   "outputs": [
    {
     "data": {
      "text/plain": [
       "20.425574462128765"
      ]
     },
     "execution_count": 37,
     "metadata": {},
     "output_type": "execute_result"
    }
   ],
   "source": [
    "median_absolute_error(y_test, predictions['mid'])"
   ]
  },
  {
   "cell_type": "markdown",
   "metadata": {},
   "source": [
    "The results are further improved using this new model. The Rsquared score of about 0.70 is not great, but decent. About 70% of the variation can be explained by the model and the median absolute error shows that half the predicted values are within about 20 dollars from the actual price.\n",
    "\n",
    "I want to plot the prediction intervals to see a visual representation of the predictions."
   ]
  },
  {
   "cell_type": "code",
   "execution_count": 46,
   "metadata": {
    "collapsed": false
   },
   "outputs": [
    {
     "data": {
      "image/png": "[encoded data removed]",
      "text/plain": [
       "<matplotlib.figure.Figure at 0x24ac2f1fdd8>"
      ]
     },
     "metadata": {},
     "output_type": "display_data"
    }
   ],
   "source": [
    "#Plot the prediction intervals. Use a subset of the predictions to make the plot readable\n",
    "plt.figure(figsize=[18,10])\n",
    "plt.plot(predictions['upper'].reset_index(drop=True)[900:1000], linestyle='-', color='goldenrod', label='Upper Prediction')\n",
    "plt.plot(predictions['mid'].reset_index(drop=True)[900:1000], linestyle='-', color='green', label='Mid Prediction')\n",
    "plt.plot(predictions['lower'].reset_index(drop=True)[900:1000], linestyle='-', color='navy', label='Lower Prediction')\n",
    "plt.plot(predictions['price'].reset_index(drop=True)[900:1000], marker='o', linestyle='', color='black', label='Actual Price')\n",
    "plt.legend(loc=1, frameon=True, edgecolor='black', fontsize=12)\n",
    "plt.title('Prediction Intervals', fontdict = {'fontsize' : 25})\n",
    "plt.xticks(fontsize=15)\n",
    "plt.yticks(fontsize=15)\n",
    "plt.ylabel('Price in $', fontsize=15)\n",
    "plt.xlabel('Observation #', fontsize=15);"
   ]
  },
  {
   "cell_type": "markdown",
   "metadata": {},
   "source": [
    "The plot shows a subset of the predictions (showing all predictions would make the plot unreadable). It shows that most predictions are within the bounds. It also tells us the same thing as the previous model, that it struggles most with predicting high prices.\n",
    "\n",
    "I want to look more closely at some metrics to evaluate the results of the model. This also borrows heavily from the same [website](https://towardsdatascience.com/how-to-generate-prediction-intervals-with-scikit-learn-and-python-ab3899f992ed) as the prediction intervals and its connected [notebook](https://nbviewer.jupyter.org/github/WillKoehrsen/Data-Analysis/blob/master/prediction-intervals/prediction_intervals.ipynb)"
   ]
  },
  {
   "cell_type": "code",
   "execution_count": 39,
   "metadata": {
    "collapsed": true
   },
   "outputs": [],
   "source": [
    "#Function to calculate absolute error for each model and the interval\n",
    "def calculate_error(predictions):\n",
    "    \"\"\"\n",
    "    Calculate the absolute error associated with prediction intervals\n",
    "    \n",
    "    :param predictions: dataframe of predictions\n",
    "    :return: None, modifies the prediction dataframe\n",
    "    \n",
    "    \"\"\"\n",
    "    predictions['absolute_error_lower'] = (predictions['lower'] - predictions[\"price\"]).abs()\n",
    "    predictions['absolute_error_mid'] = (predictions['mid'] - predictions[\"price\"]).abs()\n",
    "    predictions['absolute_error_upper'] = (predictions['upper'] - predictions[\"price\"]).abs()\n",
    "        \n",
    "    predictions['in_bounds'] = predictions[\"price\"].between(left=predictions['lower'], right=predictions['upper'])"
   ]
  },
  {
   "cell_type": "code",
   "execution_count": 40,
   "metadata": {
    "collapsed": false
   },
   "outputs": [
    {
     "data": {
      "text/html": [
       "<div>\n",
       "<table border=\"1\" class=\"dataframe\">\n",
       "  <thead>\n",
       "    <tr style=\"text-align: right;\">\n",
       "      <th></th>\n",
       "      <th>absolute_error_lower</th>\n",
       "      <th>absolute_error_mid</th>\n",
       "      <th>absolute_error_upper</th>\n",
       "    </tr>\n",
       "  </thead>\n",
       "  <tbody>\n",
       "    <tr>\n",
       "      <th>count</th>\n",
       "      <td>1139.000000</td>\n",
       "      <td>1139.000000</td>\n",
       "      <td>1139.000000</td>\n",
       "    </tr>\n",
       "    <tr>\n",
       "      <th>mean</th>\n",
       "      <td>50.365807</td>\n",
       "      <td>31.697253</td>\n",
       "      <td>55.422887</td>\n",
       "    </tr>\n",
       "    <tr>\n",
       "      <th>std</th>\n",
       "      <td>72.466286</td>\n",
       "      <td>39.951899</td>\n",
       "      <td>47.510551</td>\n",
       "    </tr>\n",
       "    <tr>\n",
       "      <th>min</th>\n",
       "      <td>0.043833</td>\n",
       "      <td>0.018249</td>\n",
       "      <td>0.099875</td>\n",
       "    </tr>\n",
       "    <tr>\n",
       "      <th>25%</th>\n",
       "      <td>11.442201</td>\n",
       "      <td>8.983214</td>\n",
       "      <td>22.528190</td>\n",
       "    </tr>\n",
       "    <tr>\n",
       "      <th>50%</th>\n",
       "      <td>26.720648</td>\n",
       "      <td>20.425574</td>\n",
       "      <td>45.062420</td>\n",
       "    </tr>\n",
       "    <tr>\n",
       "      <th>75%</th>\n",
       "      <td>59.817781</td>\n",
       "      <td>39.979768</td>\n",
       "      <td>73.213522</td>\n",
       "    </tr>\n",
       "    <tr>\n",
       "      <th>max</th>\n",
       "      <td>783.415350</td>\n",
       "      <td>423.066393</td>\n",
       "      <td>460.615672</td>\n",
       "    </tr>\n",
       "  </tbody>\n",
       "</table>\n",
       "</div>"
      ],
      "text/plain": [
       "       absolute_error_lower  absolute_error_mid  absolute_error_upper\n",
       "count           1139.000000         1139.000000           1139.000000\n",
       "mean              50.365807           31.697253             55.422887\n",
       "std               72.466286           39.951899             47.510551\n",
       "min                0.043833            0.018249              0.099875\n",
       "25%               11.442201            8.983214             22.528190\n",
       "50%               26.720648           20.425574             45.062420\n",
       "75%               59.817781           39.979768             73.213522\n",
       "max              783.415350          423.066393            460.615672"
      ]
     },
     "execution_count": 40,
     "metadata": {},
     "output_type": "execute_result"
    }
   ],
   "source": [
    "#Use the function to create a dataframe of the metrics\n",
    "calculate_error(predictions)\n",
    "metrics = predictions[['absolute_error_lower', 'absolute_error_mid', 'absolute_error_upper', 'in_bounds']].copy()\n",
    "metrics.describe()"
   ]
  },
  {
   "cell_type": "code",
   "execution_count": 41,
   "metadata": {
    "collapsed": false
   },
   "outputs": [
    {
     "data": {
      "text/plain": [
       "0.76119402985074625"
      ]
     },
     "execution_count": 41,
     "metadata": {},
     "output_type": "execute_result"
    }
   ],
   "source": [
    "metrics.in_bounds.mean()"
   ]
  },
  {
   "cell_type": "markdown",
   "metadata": {},
   "source": [
    "Using these metrics, we can see that about 76% of the predictions are in bound, i.e. between the lower and the upper bound. With the quantiles set at 0.1 and 0.9 however, the margin of error is quite large, so it's very important to be aware of this when assessing the model.\n",
    "\n",
    "It's interesting to note that the lower bound model is much closer to the mid model in terms om median absolute error than the upper bound model. This also reinforces the interpretation that the model does a much better job at predicting the listings in the lower price range."
   ]
  },
  {
   "cell_type": "code",
   "execution_count": null,
   "metadata": {
    "collapsed": true
   },
   "outputs": [],
   "source": []
  },
  {
   "cell_type": "code",
   "execution_count": null,
   "metadata": {
    "collapsed": true
   },
   "outputs": [],
   "source": []
  }
 ],
 "metadata": {
  "kernelspec": {
   "display_name": "Python 3",
   "language": "python",
   "name": "python3"
  },
  "language_info": {
   "codemirror_mode": {
    "name": "ipython",
    "version": 3
   },
   "file_extension": ".py",
   "mimetype": "text/x-python",
   "name": "python",
   "nbconvert_exporter": "python",
   "pygments_lexer": "ipython3",
   "version": "3.6.0"
  }
 },
 "nbformat": 4,
 "nbformat_minor": 2
}
